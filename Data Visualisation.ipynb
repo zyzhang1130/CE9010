{
 "cells": [
  {
   "cell_type": "markdown",
   "metadata": {},
   "source": [
    "# Libraries used:\n",
    "* numpy\n",
    "* pandas\n",
    "* sklearn\n",
    "* statsmodel"
   ]
  },
  {
   "cell_type": "code",
   "execution_count": 1,
   "metadata": {},
   "outputs": [],
   "source": [
    "import numpy as np\n",
    "import pandas as pd\n",
    "from sklearn.preprocessing import OneHotEncoder\n",
    "from sklearn.compose import make_column_transformer\n",
    "from statsmodels.graphics.mosaicplot import mosaic"
   ]
  },
  {
   "cell_type": "markdown",
   "metadata": {},
   "source": [
    "# Data Prep"
   ]
  },
  {
   "cell_type": "code",
   "execution_count": 22,
   "metadata": {},
   "outputs": [],
   "source": [
    "df=pd.read_csv('student-mat.csv',delimiter=';') \n",
    "\n",
    "G3=df['G3']\n",
    "df = df.drop(columns=\"G3\")\n",
    "\n",
    "for i in range(len(G3)):\n",
    "    if G3[i]<=4:\n",
    "        G3[i]=0\n",
    "    if G3[i]>=5 and G3[i]<=8:\n",
    "        G3[i]=1\n",
    "    if G3[i]>=9 and G3[i]<=12:\n",
    "        G3[i]=2\n",
    "    if G3[i]>=13 and G3[i]<=16:\n",
    "        G3[i]=3\n",
    "    if G3[i]>=17 and G3[i]<=20:\n",
    "        G3[i]=4\n",
    "        \n",
    "df = pd.concat([df,G3],axis=1)\n",
    "\n",
    "odf=df.copy()\n",
    "\n",
    "school_map1 = {'GP': 1, 'MS': 0}\n",
    "sex_map2 = {'M': 1, 'F': 0}\n",
    "address_map4 = {'U': 1, 'R': 0}\n",
    "famsize_map5 = {'LE3': 1, 'GT3': 0}\n",
    "Pstatus_map6 = {'T': 1, 'A': 0}\n",
    "schoolsup_map16 = {'yes': 1, 'no': 0}\n",
    "famsup_map17 = {'yes': 1, 'no': 0}\n",
    "paid_map18 = {'yes': 1, 'no': 0}\n",
    "activities_map19 = {'yes': 1, 'no': 0}\n",
    "nursery_map20 = {'yes': 1, 'no': 0}\n",
    "higher_map21 = {'yes': 1, 'no': 0}\n",
    "internet_map22 = {'yes': 1, 'no': 0}\n",
    "romantic_map23 = {'yes': 1, 'no': 0}\n",
    "\n",
    "df['school'] = df['school'].map(school_map1)\n",
    "df['sex'] = df['sex'].map(sex_map2)\n",
    "df['address'] = df['address'].map(address_map4)\n",
    "df['famsize'] = df['famsize'].map(famsize_map5)\n",
    "df['Pstatus'] = df['Pstatus'].map(Pstatus_map6)\n",
    "df['schoolsup'] = df['schoolsup'].map(schoolsup_map16)\n",
    "df['famsup'] = df['famsup'].map(famsup_map17)\n",
    "df['paid'] = df['paid'].map(paid_map18)\n",
    "df['activities'] = df['activities'].map(activities_map19)\n",
    "df['nursery'] = df['nursery'].map(nursery_map20)\n",
    "df['higher'] = df['higher'].map(higher_map21)\n",
    "df['internet'] = df['internet'].map(internet_map22)\n",
    "df['romantic'] = df['romantic'].map(romantic_map23)\n",
    "\n",
    "column_trans=make_column_transformer((OneHotEncoder(),['Mjob','Fjob',\n",
    "'reason','guardian']),remainder='passthrough')\n",
    "\n",
    "data=column_trans.fit_transform(df)\n",
    "\n",
    "\n",
    "n1 = data.shape[0]\n",
    "n2 = data.shape[1]\n",
    "m=int(0.8*n1)\n"
   ]
  },
  {
   "cell_type": "markdown",
   "metadata": {},
   "source": [
    "# Data Visualisation"
   ]
  },
  {
   "cell_type": "code",
   "execution_count": 23,
   "metadata": {},
   "outputs": [
    {
     "data": {
      "image/png": "[encoded data removed]",
      "text/plain": [
       "<Figure size 432x288 with 1 Axes>"
      ]
     },
     "metadata": {
      "needs_background": "light"
     },
     "output_type": "display_data"
    },
    {
     "data": {
      "image/png": "[encoded data removed]",
      "text/plain": [
       "<Figure size 432x288 with 1 Axes>"
      ]
     },
     "metadata": {
      "needs_background": "light"
     },
     "output_type": "display_data"
    }
   ],
   "source": [
    "GP_list = df.loc[df['school']==1]\n",
    "GP_count = GP_list['G3'].value_counts(normalize=True,sort=False,dropna=True)\n",
    "\n",
    "MS_list = df.loc[df['school']==0]\n",
    "MS_count = MS_list['G3'].value_counts(normalize=True,sort=False,dropna=True)\n",
    "\n",
    "school_count = pd.concat([GP_count,MS_count],axis=1)\n",
    "school_count.columns=['GP','MS']\n",
    "\n",
    "school_plot = school_count.plot.barh()\n",
    "\n",
    "school_plot_stacked = school_count.T.plot.bar(stacked=True)"
   ]
  },
  {
   "cell_type": "code",
   "execution_count": 26,
   "metadata": {},
   "outputs": [
    {
     "data": {
      "image/png": "[encoded data removed]",
      "text/plain": [
       "<Figure size 432x288 with 1 Axes>"
      ]
     },
     "metadata": {
      "needs_background": "light"
     },
     "output_type": "display_data"
    },
    {
     "data": {
      "image/png": "[encoded data removed]",
      "text/plain": [
       "<Figure size 432x288 with 1 Axes>"
      ]
     },
     "metadata": {
      "needs_background": "light"
     },
     "output_type": "display_data"
    }
   ],
   "source": [
    "F_list = df.loc[df['sex']==0]\n",
    "F_count = F_list['G3'].value_counts(normalize=True,sort=False,dropna=True)\n",
    "\n",
    "M_list = df.loc[df['sex']==1]\n",
    "M_count = M_list['G3'].value_counts(normalize=True,sort=False,dropna=True)\n",
    "\n",
    "sex_count = pd.concat([F_count,M_count],axis=1)\n",
    "sex_count.columns=['F','M']\n",
    "\n",
    "sex_plot = sex_count.plot.barh()\n",
    "\n",
    "sex_plot_stacked = sex_count.T.plot.bar(stacked=True)"
   ]
  },
  {
   "cell_type": "code",
   "execution_count": 27,
   "metadata": {},
   "outputs": [
    {
     "data": {
      "text/plain": [
       "(<Figure size 432x288 with 3 Axes>,\n",
       " OrderedDict([(('F', '1', 'GP'),\n",
       "               (0.0, 0.0, 0.47667121447738015, 0.1613107287449393)),\n",
       "              (('F', '1', 'MS'),\n",
       "               (0.47783299378148275,\n",
       "                0.0,\n",
       "                0.04612947236877874,\n",
       "                0.1613107287449393)),\n",
       "              (('F', '2', 'GP'),\n",
       "               (0.0,\n",
       "                0.16460020242914983,\n",
       "                0.45069024728117146,\n",
       "                0.4127656882591094)),\n",
       "              (('F', '2', 'MS'),\n",
       "               (0.451852026585274,\n",
       "                0.16460020242914983,\n",
       "                0.07211043956498747,\n",
       "                0.4127656882591094)),\n",
       "              (('F', '3', 'GP'),\n",
       "               (0.0,\n",
       "                0.5806553643724698,\n",
       "                0.4636157034296126,\n",
       "                0.2514549595141701)),\n",
       "              (('F', '3', 'MS'),\n",
       "               (0.4647774827337152,\n",
       "                0.5806553643724698,\n",
       "                0.05918498341654628,\n",
       "                0.2514549595141701)),\n",
       "              (('F', '4', 'GP'),\n",
       "               (0.0,\n",
       "                0.8353997975708504,\n",
       "                0.470520618161543,\n",
       "                0.04744433198380561)),\n",
       "              (('F', '4', 'MS'),\n",
       "               (0.4716823974656456,\n",
       "                0.8353997975708504,\n",
       "                0.05228006868461588,\n",
       "                0.04744433198380561)),\n",
       "              (('F', '0', 'GP'),\n",
       "               (0.0,\n",
       "                0.8861336032388665,\n",
       "                0.45745060099038903,\n",
       "                0.11386639676113365)),\n",
       "              (('F', '0', 'MS'),\n",
       "               (0.45861238029449164,\n",
       "                0.8861336032388665,\n",
       "                0.06535008585576986,\n",
       "                0.11386639676113365)),\n",
       "              (('M', '1', 'GP'),\n",
       "               (0.5289375905283709,\n",
       "                0.0,\n",
       "                0.3727728372223689,\n",
       "                0.15303968477343094)),\n",
       "              (('M', '1', 'MS'),\n",
       "               (0.9027549120289473,\n",
       "                0.0,\n",
       "                0.09724508797105273,\n",
       "                0.15303968477343094)),\n",
       "              (('M', '2', 'GP'),\n",
       "               (0.5289375905283709,\n",
       "                0.15632915845764145,\n",
       "                0.41361577417021106,\n",
       "                0.39579228820714896)),\n",
       "              (('M', '2', 'MS'),\n",
       "               (0.9435978489767896,\n",
       "                0.15632915845764145,\n",
       "                0.05640215102321059,\n",
       "                0.39579228820714896)),\n",
       "              (('M', '3', 'GP'),\n",
       "               (0.5289375905283709,\n",
       "                0.555410920349001,\n",
       "                0.4264977469347715,\n",
       "                0.2849704475091473)),\n",
       "              (('M', '3', 'MS'),\n",
       "               (0.9564798217413499,\n",
       "                0.555410920349001,\n",
       "                0.043520178258650136,\n",
       "                0.2849704475091473)),\n",
       "              (('M', '4', 'GP'),\n",
       "               (0.5289375905283709,\n",
       "                0.8436708415423587,\n",
       "                0.47001792519342167,\n",
       "                0.0738812271320011)),\n",
       "              (('M', '4', 'MS'),\n",
       "               (1.0, 0.8436708415423587, 0.0, 0.0738812271320011)),\n",
       "              (('M', '0', 'GP'),\n",
       "               (0.5289375905283709,\n",
       "                0.9208415423585703,\n",
       "                0.43868339684719354,\n",
       "                0.07915845764142977)),\n",
       "              (('M', '0', 'MS'),\n",
       "               (0.9686654716537719,\n",
       "                0.9208415423585703,\n",
       "                0.0313345283462281,\n",
       "                0.07915845764142977))]))"
      ]
     },
     "execution_count": 27,
     "metadata": {},
     "output_type": "execute_result"
    },
    {
     "data": {
      "image/png": "[encoded data removed]",
      "text/plain": [
       "<Figure size 432x288 with 3 Axes>"
      ]
     },
     "metadata": {
      "needs_background": "light"
     },
     "output_type": "display_data"
    }
   ],
   "source": [
    "mosaic(odf,[\"sex\",\"G3\",\"school\",])"
   ]
  },
  {
   "cell_type": "code",
   "execution_count": null,
   "metadata": {},
   "outputs": [],
   "source": []
  }
 ],
 "metadata": {
  "kernelspec": {
   "display_name": "Python 3",
   "language": "python",
   "name": "python3"
  },
  "language_info": {
   "codemirror_mode": {
    "name": "ipython",
    "version": 3
   },
   "file_extension": ".py",
   "mimetype": "text/x-python",
   "name": "python",
   "nbconvert_exporter": "python",
   "pygments_lexer": "ipython3",
   "version": "3.7.6"
  }
 },
 "nbformat": 4,
 "nbformat_minor": 4
}
