{
 "cells": [
  {
   "cell_type": "markdown",
   "metadata": {},
   "source": [
    "# Libraries used:\n",
    "* numpy\n",
    "* pandas\n",
    "* sklearn"
   ]
  },
  {
   "cell_type": "code",
   "execution_count": 9,
   "metadata": {},
   "outputs": [],
   "source": [
    "import numpy as np\n",
    "import pandas as pd\n",
    "from sklearn.preprocessing import OneHotEncoder\n",
    "from sklearn.compose import make_column_transformer"
   ]
  },
  {
   "cell_type": "markdown",
   "metadata": {},
   "source": [
    "# Data Prep"
   ]
  },
  {
   "cell_type": "code",
   "execution_count": 10,
   "metadata": {},
   "outputs": [],
   "source": [
    "df=pd.read_csv('student-mat.csv',delimiter=';') \n",
    "\n",
    "\n",
    "school_map1 = {'GP': 1, 'MS': 0}\n",
    "sex_map2 = {'M': 1, 'F': 0}\n",
    "address_map4 = {'U': 1, 'R': 0}\n",
    "famsize_map5 = {'LE3': 1, 'GT3': 0}\n",
    "Pstatus_map6 = {'T': 1, 'A': 0}\n",
    "schoolsup_map16 = {'yes': 1, 'no': 0}\n",
    "famsup_map17 = {'yes': 1, 'no': 0}\n",
    "paid_map18 = {'yes': 1, 'no': 0}\n",
    "activities_map19 = {'yes': 1, 'no': 0}\n",
    "nursery_map20 = {'yes': 1, 'no': 0}\n",
    "higher_map21 = {'yes': 1, 'no': 0}\n",
    "internet_map22 = {'yes': 1, 'no': 0}\n",
    "romantic_map23 = {'yes': 1, 'no': 0}\n",
    "\n",
    "df['school'] = df['school'].map(school_map1)\n",
    "df['sex'] = df['sex'].map(sex_map2)\n",
    "df['address'] = df['address'].map(address_map4)\n",
    "df['famsize'] = df['famsize'].map(famsize_map5)\n",
    "df['Pstatus'] = df['Pstatus'].map(Pstatus_map6)\n",
    "df['schoolsup'] = df['schoolsup'].map(schoolsup_map16)\n",
    "df['famsup'] = df['famsup'].map(famsup_map17)\n",
    "df['paid'] = df['paid'].map(paid_map18)\n",
    "df['activities'] = df['activities'].map(activities_map19)\n",
    "df['nursery'] = df['nursery'].map(nursery_map20)\n",
    "df['higher'] = df['higher'].map(higher_map21)\n",
    "df['internet'] = df['internet'].map(internet_map22)\n",
    "df['romantic'] = df['romantic'].map(romantic_map23)\n",
    "\n",
    "G3=df['G3']\n",
    "df = df.drop(columns=\"G3\")\n",
    "\n",
    "for i in range(len(G3)):\n",
    "    if G3[i]<=4:\n",
    "        G3[i]=0\n",
    "    if G3[i]>=5 and G3[i]<=8:\n",
    "        G3[i]=1\n",
    "    if G3[i]>=9 and G3[i]<=12:\n",
    "        G3[i]=2\n",
    "    if G3[i]>=13 and G3[i]<=16:\n",
    "        G3[i]=3\n",
    "    if G3[i]>=17 and G3[i]<=20:\n",
    "        G3[i]=4\n",
    "\n",
    "df = pd.concat([df,G3],axis=1)\n",
    "\n",
    "column_trans=make_column_transformer((OneHotEncoder(),['Mjob','Fjob',\n",
    "'reason','guardian']),remainder='passthrough')\n",
    "\n",
    "data=column_trans.fit_transform(df)\n",
    "\n",
    "\n",
    "n1 = data.shape[0]\n",
    "n2 = data.shape[1]\n",
    "m=int(0.8*n1)\n"
   ]
  },
  {
   "cell_type": "markdown",
   "metadata": {},
   "source": [
    "# Data Visualisation"
   ]
  },
  {
   "cell_type": "code",
   "execution_count": 68,
   "metadata": {},
   "outputs": [
    {
     "data": {
      "image/png": "[encoded data removed]",
      "text/plain": [
       "<Figure size 432x288 with 1 Axes>"
      ]
     },
     "metadata": {
      "needs_background": "light"
     },
     "output_type": "display_data"
    }
   ],
   "source": [
    "GP_list = df.loc[df['school']==1]\n",
    "GP_count = GP_list['G3'].value_counts(normalize=True,sort=False,dropna=True)\n",
    "\n",
    "MS_list = df.loc[df['school']==0]\n",
    "MS_count = MS_list['G3'].value_counts(normalize=True,sort=False,dropna=True)\n",
    "\n",
    "school_count = pd.concat([GP_count,MS_count],axis=1)\n",
    "school_count.columns=['GP','MS']\n",
    "\n",
    "school_plot = school_count.plot.barh()"
   ]
  },
  {
   "cell_type": "code",
   "execution_count": 70,
   "metadata": {},
   "outputs": [
    {
     "data": {
      "image/png": "[encoded data removed]",
      "text/plain": [
       "<Figure size 432x288 with 1 Axes>"
      ]
     },
     "metadata": {
      "needs_background": "light"
     },
     "output_type": "display_data"
    }
   ],
   "source": [
    "F_list = df.loc[df['sex']==0]\n",
    "F_count = F_list['G3'].value_counts(normalize=True,sort=False,dropna=True)\n",
    "\n",
    "M_list = df.loc[df['sex']==1]\n",
    "M_count = M_list['G3'].value_counts(normalize=True,sort=False,dropna=True)\n",
    "\n",
    "sex_count = pd.concat([F_count,M_count],axis=1)\n",
    "sex_count.columns=['F','M']\n",
    "\n",
    "sex_plot = sex_count.plot.barh()"
   ]
  },
  {
   "cell_type": "code",
   "execution_count": null,
   "metadata": {},
   "outputs": [],
   "source": []
  },
  {
   "cell_type": "code",
   "execution_count": null,
   "metadata": {},
   "outputs": [],
   "source": []
  }
 ],
 "metadata": {
  "kernelspec": {
   "display_name": "Python 3",
   "language": "python",
   "name": "python3"
  },
  "language_info": {
   "codemirror_mode": {
    "name": "ipython",
    "version": 3
   },
   "file_extension": ".py",
   "mimetype": "text/x-python",
   "name": "python",
   "nbconvert_exporter": "python",
   "pygments_lexer": "ipython3",
   "version": "3.7.6"
  }
 },
 "nbformat": 4,
 "nbformat_minor": 4
}
